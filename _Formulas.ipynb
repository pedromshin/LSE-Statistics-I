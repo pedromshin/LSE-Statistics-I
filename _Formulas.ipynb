{
 "cells": [
  {
   "cell_type": "code",
   "execution_count": null,
   "metadata": {},
   "outputs": [],
   "source": [
    "import numpy as np\n",
    "\n",
    "class Population:\n",
    "    def __init__(self, size, mean, std_dev=1.0):\n",
    "        \"\"\"\n",
    "        Initializes the Population object with a given size, mean, and standard deviation.\n",
    "        \n",
    "        Parameters:\n",
    "            size (int): The size of the population.\n",
    "            mean (float): The mean of the population.\n",
    "            std_dev (float, optional): The standard deviation of the population. Defaults to 1.0.\n",
    "        \"\"\"\n",
    "        self.data = np.random.normal(loc=mean, scale=std_dev, size=size)\n",
    "\n",
    "    def sample(self, sample_size):\n",
    "        \"\"\"\n",
    "        Takes a sample from the population.\n",
    "        \n",
    "        Parameters:\n",
    "            sample_size (int): The size of the sample.\n",
    "        \n",
    "        Returns:\n",
    "            np.ndarray: The sample taken from the population.\n",
    "        \"\"\"\n",
    "        sample = np.random.choice(self.data, size=sample_size, replace=False)\n",
    "        return sample\n",
    "    \n",
    "# Example usage:\n",
    "if __name__ == \"__main__\":\n",
    "    # Generate a population of 10000 with mean 50 and default standard deviation 1.0\n",
    "    population = Population(size=10000, mean=50)\n",
    "    print(\"Population generated with default standard deviation.\")\n",
    "\n",
    "    # Generate a population of 10000 with mean 50 and standard deviation 10\n",
    "    population_with_std = Population(size=10000, mean=50, std_dev=10)\n",
    "    print(\"Population generated with specified standard deviation.\")\n",
    "\n",
    "    # Take a sample of 100 from the population with default standard deviation\n",
    "    sample = population.take_sample(sample_size=100)\n",
    "    print(\"Sample taken from population with default std dev.\")\n",
    "    \n",
    "    # Take a sample of 100 from the population with specified standard deviation\n",
    "    sample_with_std = population_with_std.take_sample(sample_size=100)\n",
    "    print(\"Sample taken from population with specified std dev.\", sample_with_std[:10])"
   ]
  },
  {
   "cell_type": "code",
   "execution_count": null,
   "metadata": {},
   "outputs": [],
   "source": [
    "def sample_mean(data):\n",
    "    return sum (data) / len(data)"
   ]
  }
 ],
 "metadata": {
  "kernelspec": {
   "display_name": "Python 3",
   "language": "python",
   "name": "python3"
  },
  "language_info": {
   "codemirror_mode": {
    "name": "ipython",
    "version": 3
   },
   "file_extension": ".py",
   "mimetype": "text/x-python",
   "name": "python",
   "nbconvert_exporter": "python",
   "pygments_lexer": "ipython3",
   "version": "3.12.4"
  }
 },
 "nbformat": 4,
 "nbformat_minor": 2
}
