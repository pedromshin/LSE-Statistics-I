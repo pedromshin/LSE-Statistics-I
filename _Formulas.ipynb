{
 "cells": [
  {
   "cell_type": "code",
   "execution_count": 2,
   "metadata": {},
   "outputs": [],
   "source": [
    "import numpy as np\n",
    "\n",
    "class Population:\n",
    "    def __init__(self, N=100, mean=50, std_dev=1.0):\n",
    "        \"\"\"\n",
    "        Initializes the Population object with a given size, mean, and standard deviation.\n",
    "        \n",
    "        Parameters:\n",
    "            N (int): The size of the population. Defaults to 100.\n",
    "            mean (float): The mean of the population. Defaults to 50.\n",
    "            std_dev (float, optional): The standard deviation of the population. Defaults to 1.0.\n",
    "        \"\"\"\n",
    "        self.data = np.random.normal(loc=mean, scale=std_dev, size=N)"
   ]
  },
  {
   "cell_type": "code",
   "execution_count": 3,
   "metadata": {},
   "outputs": [],
   "source": [
    "def sample(data, n):\n",
    "    \"\"\"\n",
    "    Takes a sample from a population.\n",
    "    \n",
    "    Parameters:\n",
    "        n (int): The size of the sample.\n",
    "    \n",
    "    Returns:\n",
    "        np.ndarray: The sample taken from the population.\n",
    "    \"\"\"\n",
    "    sample = np.random.choice(data, size=n, replace=False)\n",
    "    return sample"
   ]
  },
  {
   "cell_type": "code",
   "execution_count": 4,
   "metadata": {},
   "outputs": [],
   "source": [
    "def mean(data):\n",
    "    return sum (data) / len(data)"
   ]
  },
  {
   "cell_type": "code",
   "execution_count": 5,
   "metadata": {},
   "outputs": [],
   "source": [
    "def corrected_sum_of_squares(data, mean):\n",
    "    \"\"\"\n",
    "    Parameters:\n",
    "        data (np.ndarray): Data to analyse\n",
    "        mean (int): Average data values.\n",
    "    \n",
    "    Returns:\n",
    "        int\n",
    "    \"\"\"\n",
    "\n",
    "    return sum((x - mean) ** 2 for x in data)"
   ]
  },
  {
   "cell_type": "code",
   "execution_count": 6,
   "metadata": {},
   "outputs": [],
   "source": [
    "import math\n",
    "\n",
    "def std_dev(corrected_sum_of_squares, N):\n",
    "    \"\"\"\n",
    "    sigma\n",
    "\n",
    "    Parameters:\n",
    "        corrected_sum_of_squares (float): \n",
    "        N (int): Length of population.\n",
    "    \n",
    "    Returns:\n",
    "        float\n",
    "    \"\"\"\n",
    "\n",
    "    return math.sqrt(corrected_sum_of_squares / N)"
   ]
  },
  {
   "cell_type": "code",
   "execution_count": null,
   "metadata": {},
   "outputs": [],
   "source": []
  },
  {
   "cell_type": "code",
   "execution_count": null,
   "metadata": {},
   "outputs": [],
   "source": []
  }
 ],
 "metadata": {
  "kernelspec": {
   "display_name": "Python 3",
   "language": "python",
   "name": "python3"
  },
  "language_info": {
   "codemirror_mode": {
    "name": "ipython",
    "version": 3
   },
   "file_extension": ".py",
   "mimetype": "text/x-python",
   "name": "python",
   "nbconvert_exporter": "python",
   "pygments_lexer": "ipython3",
   "version": "3.9.6"
  }
 },
 "nbformat": 4,
 "nbformat_minor": 2
}
